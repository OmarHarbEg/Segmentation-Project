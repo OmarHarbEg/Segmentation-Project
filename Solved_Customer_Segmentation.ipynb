{
 "cells": [
  {
   "cell_type": "markdown",
   "id": "f95c84fe-5b70-4c8b-b05d-8513031e0f0f",
   "metadata": {
    "jp-MarkdownHeadingCollapsed": true
   },
   "source": [
    "# <font color='#1E3E62'>_**Customer Segmentation Model**_</font> "
   ]
  },
  {
   "cell_type": "markdown",
   "id": "2cb0bc5b-4c77-45b4-8577-8577f9b7bb55",
   "metadata": {},
   "source": [
    "## <font color='#FF6500'>_**Transactions - Categories**_</font> "
   ]
  },
  {
   "cell_type": "markdown",
   "id": "62627b89-8557-4f9e-aea0-df59b0a8a74a",
   "metadata": {},
   "source": [
    "## <font color= '#1E3E62'>**_Recommend the best merchants for each user as targeted offers_**</font> "
   ]
  },
  {
   "cell_type": "markdown",
   "id": "919ab5ca-e4a4-4d56-8b98-8cd385a49ff9",
   "metadata": {},
   "source": [
    "![title](CS.jpg)"
   ]
  },
  {
   "cell_type": "markdown",
   "id": "1b5e4ec6-b2d2-48a0-948f-ed959fe8a558",
   "metadata": {},
   "source": [
    "### 📌 <font color='#1E3E62'>_**To begin, let's identify the key points & outline the questions that will guide 'our analysis', helping us define the 'business questions' and 'understand the dataset's structure'.:**_</font> \n",
    "\n",
    "<font color = '#FF6500' font size=\"4\">**_(I) Business Questions:_**</font>\n",
    "\n",
    "<font size=\"3\">**_1. How can we optimize customer retention by analyzing transaction behavior?_**</font>\n",
    "\n",
    "<font size=\"3\">**_2. Can we predict customer loyalty based on transaction ranks and value?_**</font>\n",
    "\n",
    "<font size=\"3\">**_3. How do customer transactions vary across different merchant categories?_**</font>\n",
    "\n",
    "<font color = '#FF6500' font size=\"4\">**_(II) Business Objectives:_**</font>\n",
    "\n",
    "<font size=\"3\">**_1. Customer Retention:_**</font>\n",
    "\n",
    ">- Identify key factors that affect customer loyalty and retention.\n",
    "\n",
    "<font size=\"3\">**_2. Customer Segmentation:_**</font>\n",
    "\n",
    ">- Group customers into segments based on transaction behavior to target marketing efforts.\n",
    "\n",
    "<font size=\"3\">**_3. Merchant Insights:_**</font>\n",
    "\n",
    ">- Understand which merchant categories drive the highest transaction values or redeemed points.\n",
    "\n",
    "<font color = '#FF6500' font size=\"4\">**_(III) Key Questions:_**</font>\n",
    "\n",
    "<font size=\"3\">**_1. What are the top categories or merchants contributing the most to transaction value?_**</font>\n",
    "\n",
    "<font size=\"3\">**_2. Which customers are most loyal; based on their transaction rank and days since last transaction?_**</font>\n",
    "\n",
    "<font size=\"3\">**_3. Are there patterns in the redeemed points across different merchants or categories?_**</font>\n",
    "\n",
    "<font color = '#FF6500' font size=\"4\">**_(VI) Dataset Structure Understanding:_**</font>\n",
    "\n",
    "<font color = '#1E3E62' font size=\"3\">_**The Transactions dataset provides individual transaction records for customers, including details about the merchant, the points redeemed, and the transaction value.**_</font>\n",
    "\n",
    ">- **CustomerID:** A unique identifier for each customer. **(This will be useful for grouping and segmenting the customers based on their transactional history.)**\n",
    ">- **MerchantName:** Name of the merchant where the transaction took place. **(We can map this with the Categories dataset to understand the industry/sector of the merchant.)**\n",
    ">- **TransactionRank:** An integer representing the rank or priority of the transaction. **(This can give insights into customer behavior based on transaction frequency.)**\n",
    ">- **TransactionRedeemedPoints:** Points that were redeemed during the transaction. **(This is useful for understanding customer engagement with reward programs.)**\n",
    ">- **TransactionValue:** The monetary value of the transaction. **(Higher values might indicate high-value customers.)**\n",
    ">- **TransactionFrom(days):** The number of days since the first transaction of the customer. **(This helps to analyze customer longevity and consistency.)**\n",
    ">- **CustomerLastTransactionFrom(days):** The number of days since the customer’s last transaction. **(This is useful for identifying potential churn (if the customer hasn’t transacted in a while).)**\n",
    "\n",
    "<font color = '#1E3E62' font size=\"3\">_**The Categories dataset maps each merchant to a category (e.g., fashion, grocery, F&B), which can help in further categorizing the transaction data for deeper insights.**_</font>\n",
    "\n",
    "<font color = '#FF6500' font size=\"4\">**_(V) Business Impact:_**</font>\n",
    "\n",
    "<font size=\"3\">_The analysis will have a significant impact on new restaurant planning by helping:_</font>\n",
    "\n",
    ">- **Targeted Marketing:** By segmenting customers based on their transaction frequency, value, and recency, we can target high-value or high-potential customers with personalized offers.\n",
    ">- **Customer Loyalty Programs:** Understanding how often and how many points customers redeem can help refine loyalty programs and reward high-frequency customers.\n",
    ">- **Merchant Strategy:** Knowing which merchant categories are generating the most value allows businesses to build strategic partnerships and promotions with those categories.\n"
   ]
  },
  {
   "cell_type": "markdown",
   "id": "e3edfb5d-6541-4128-9427-903c65c1d618",
   "metadata": {},
   "source": [
    "## 📌 <font color='#FF6500'>*Target Tasks:*</font> \n",
    "<font size=\"4\">**_1- Data Processing_**</font>\n",
    "<br>\n",
    "<font size=\"4\">**_2- EDA (Exploratory of Data Analysis)_**</font>\n",
    "<br>\n",
    "<font size=\"4\">**_3- Data Preprocessing_**</font>\n",
    "<br>\n",
    "<font size=\"4\">**_4- Model Data_**</font>\n",
    "<br>\n",
    "<font size=\"4\">**_5- Evaluation and Tuning_**</font>\n",
    "<br>\n",
    "<font size=\"4\">**_6- Deployment_**</font>"
   ]
  },
  {
   "cell_type": "markdown",
   "id": "9d83493d-b098-4643-a3dc-14cbf6d36826",
   "metadata": {
    "jp-MarkdownHeadingCollapsed": true
   },
   "source": [
    "# 📌 <font color='#1E3E62'>*_1- Data Processing:_*</font> "
   ]
  },
  {
   "cell_type": "code",
   "execution_count": null,
   "id": "ef0ede5a-14f9-4546-9cd9-f95ebe423d42",
   "metadata": {},
   "outputs": [],
   "source": [
    "import pandas as pd\n",
    "import numpy as np\n",
    "import plotly.express as px\n",
    "import matplotlib.pyplot as plt\n",
    "import hvplot.pandas\n",
    "import seaborn as sns\n",
    "from scipy import stats\n",
    "from sklearn.preprocessing import StandardScaler\n",
    "from sklearn.cluster import KMeans"
   ]
  },
  {
   "cell_type": "code",
   "execution_count": null,
   "id": "aa1fc039-51cf-4f4f-ba92-fe34dfcfbfc4",
   "metadata": {},
   "outputs": [],
   "source": [
    "# Load the Transactions & Categories datasets\n",
    "transactions_df = pd.read_csv('Transactions.csv')\n",
    "categories_df = pd.read_csv('Categories.csv')"
   ]
  },
  {
   "cell_type": "code",
   "execution_count": null,
   "id": "6c096399-d207-4caf-b72c-ce8b90b33708",
   "metadata": {},
   "outputs": [],
   "source": [
    "# Read the Transactions dataset\n",
    "transactions_df.head(-10)"
   ]
  },
  {
   "cell_type": "code",
   "execution_count": null,
   "id": "eee1e65e-8179-4848-8e8c-2985d5c3c539",
   "metadata": {},
   "outputs": [],
   "source": [
    "# Read the Categories dataset\n",
    "categories_df.head(60)"
   ]
  },
  {
   "cell_type": "code",
   "execution_count": null,
   "id": "52d58597-71b6-4082-b1a6-a93478a1ef9c",
   "metadata": {},
   "outputs": [],
   "source": [
    "# Get the info of Transactions dataset\n",
    "transactions_df.info()"
   ]
  },
  {
   "cell_type": "code",
   "execution_count": null,
   "id": "a6138dac-e691-4309-ba5c-f60bfc4d6860",
   "metadata": {},
   "outputs": [],
   "source": [
    "# Get the info of Categories dataset\n",
    "categories_df.info()"
   ]
  },
  {
   "cell_type": "code",
   "execution_count": null,
   "id": "4a027b48-838a-45ed-aff4-04352124b014",
   "metadata": {},
   "outputs": [],
   "source": [
    "# Check for missing data in Transactions Dataset\n",
    "transactions_df.isnull().sum()"
   ]
  },
  {
   "cell_type": "code",
   "execution_count": null,
   "id": "583c450d-b9ef-416f-b1a1-e96e5932620f",
   "metadata": {},
   "outputs": [],
   "source": [
    "# Check for missing data in Categories Dataset\n",
    "transactions_df.isnull().sum()"
   ]
  },
  {
   "cell_type": "code",
   "execution_count": null,
   "id": "8a196fed-b77d-4dea-a0ea-1ff831d5aaf3",
   "metadata": {},
   "outputs": [],
   "source": [
    "# Check for duplicate rows in Transactions Dataset\n",
    "transactions_df.duplicated().sum()"
   ]
  },
  {
   "cell_type": "code",
   "execution_count": null,
   "id": "8c43b2b3-f842-40ca-b978-d35efd3c27dc",
   "metadata": {},
   "outputs": [],
   "source": [
    "# Check for duplicate rows in Categories Dataset\n",
    "categories_df.duplicated().sum()"
   ]
  },
  {
   "cell_type": "code",
   "execution_count": null,
   "id": "71ef507a-a7f1-4db1-828e-2291c29fee6c",
   "metadata": {},
   "outputs": [],
   "source": [
    "# Check if all merchants in Transactions Dataset have categories in Categories Dataset\n",
    "missing_categories = transactions_df[~transactions_df['MerchantName'].isin(categories_df['MerchantName'])]"
   ]
  },
  {
   "cell_type": "code",
   "execution_count": null,
   "id": "1fd17077-fb58-414a-a951-7111317af4d7",
   "metadata": {},
   "outputs": [],
   "source": [
    "missing_categories"
   ]
  },
  {
   "cell_type": "code",
   "execution_count": null,
   "id": "b034fb37-d389-4cf1-b05a-57603811231f",
   "metadata": {},
   "outputs": [],
   "source": [
    "transactions_df.describe()"
   ]
  },
  {
   "cell_type": "code",
   "execution_count": null,
   "id": "fac04b83-fb44-4efc-b3dd-e41bcabd4d79",
   "metadata": {},
   "outputs": [],
   "source": [
    "transactions_df.columns"
   ]
  },
  {
   "cell_type": "code",
   "execution_count": null,
   "id": "bf47c88d-bc11-482c-b989-116fbbcc9344",
   "metadata": {},
   "outputs": [],
   "source": [
    "transactions_df[\"MerchantName\"].value_counts()"
   ]
  },
  {
   "cell_type": "code",
   "execution_count": null,
   "id": "5a6a27bb-b017-4f5c-b69f-ee9e23462768",
   "metadata": {},
   "outputs": [],
   "source": [
    "sorted(transactions_df[\"MerchantName\"].unique())"
   ]
  },
  {
   "cell_type": "code",
   "execution_count": null,
   "id": "ef97d7d5-797c-46ee-83e4-c450015fb4c2",
   "metadata": {},
   "outputs": [],
   "source": [
    "transactions_df[\"TransactionRank\"].value_counts()"
   ]
  },
  {
   "cell_type": "code",
   "execution_count": null,
   "id": "7dd21f85-c6f2-4769-a6d6-7f2d7805e3df",
   "metadata": {},
   "outputs": [],
   "source": [
    "px.histogram(data_frame=transactions_df , x = 'TransactionRank')"
   ]
  },
  {
   "cell_type": "code",
   "execution_count": null,
   "id": "7bf5ddcc-59a7-47fe-8bdf-9017482ba2df",
   "metadata": {},
   "outputs": [],
   "source": [
    "transactions_df[\"TransactionRedeemedPoints\"].value_counts()"
   ]
  },
  {
   "cell_type": "code",
   "execution_count": null,
   "id": "49628191-dbbf-4b36-b1ed-c34e8e44e20e",
   "metadata": {},
   "outputs": [],
   "source": [
    "px.histogram(data_frame=transactions_df , x = 'TransactionRedeemedPoints')"
   ]
  },
  {
   "cell_type": "code",
   "execution_count": null,
   "id": "88f8b0e3-0b2e-4cb4-9fc9-f65f68a4996e",
   "metadata": {},
   "outputs": [],
   "source": [
    "transactions_df[\"TransactionRedeemedPoints\"].describe()"
   ]
  },
  {
   "cell_type": "code",
   "execution_count": null,
   "id": "a0fee5e5-b50e-4b26-ac6e-d78973ceef1e",
   "metadata": {},
   "outputs": [],
   "source": [
    "transactions_df[\"TransactionValue\"].value_counts()"
   ]
  },
  {
   "cell_type": "code",
   "execution_count": null,
   "id": "dbfd16bc-4f6e-4386-8ffd-4b86b0614f04",
   "metadata": {},
   "outputs": [],
   "source": [
    "px.histogram(data_frame=transactions_df , x = 'TransactionValue')"
   ]
  },
  {
   "cell_type": "code",
   "execution_count": null,
   "id": "5ff4d6e0-05d9-4d7d-a256-18022a1f3a82",
   "metadata": {},
   "outputs": [],
   "source": [
    "transactions_df[\"TransactionValue\"].describe()"
   ]
  },
  {
   "cell_type": "code",
   "execution_count": null,
   "id": "1f9b3446-440e-45f2-8a19-012ab0b89834",
   "metadata": {},
   "outputs": [],
   "source": [
    "# Remove negative or zero values for TransactionValue\n",
    "transactions_df.drop(transactions_df[transactions_df['TransactionValue'] <= 0].index, inplace=True)"
   ]
  },
  {
   "cell_type": "code",
   "execution_count": null,
   "id": "f43131f4-f458-42c0-a40c-c53ed04605a6",
   "metadata": {},
   "outputs": [],
   "source": [
    "# Confirm the removal by checking for any remaining negative or zero values\n",
    "transactions_df[transactions_df['TransactionValue'] <= 0]\n",
    "\n",
    "# Reset Index\n",
    "transactions_df.reset_index(drop = True , inplace = True)"
   ]
  },
  {
   "cell_type": "code",
   "execution_count": null,
   "id": "a39d24f7-d2d7-4e6e-9a26-bf83a616d206",
   "metadata": {},
   "outputs": [],
   "source": [
    "transactions_df.head(-10)"
   ]
  },
  {
   "cell_type": "code",
   "execution_count": null,
   "id": "fe2ece1c-ad2b-49e7-934c-55720c685394",
   "metadata": {},
   "outputs": [],
   "source": [
    "# Calculate IQR for TransactionValue and TransactionRedeemedPoints\n",
    "Q1 = transactions_df[['TransactionValue', 'TransactionRedeemedPoints']].quantile(0.25)\n",
    "Q3 = transactions_df[['TransactionValue', 'TransactionRedeemedPoints']].quantile(0.75)\n",
    "IQR = Q3 - Q1\n",
    "\n",
    "# Identify outliers for TransactionValue and TransactionRedeemedPoints using the IQR method\n",
    "transaction_outliers = (transactions_df < (Q1 - 1.5 * IQR)) | (transactions_df > (Q3 + 1.5 * IQR))\n",
    "transaction_outliers_df = transactions_df[transaction_outliers.any(axis=1)]\n",
    "\n",
    "# Review the first few rows of IQR outliers\n",
    "transaction_outliers_df.head() "
   ]
  },
  {
   "cell_type": "code",
   "execution_count": null,
   "id": "df6085f9-f6ca-40be-8538-95096aa6f9b9",
   "metadata": {},
   "outputs": [],
   "source": [
    "# IQR Method: Count the number of outliers in TransactionValue and TransactionRedeemedPoints\n",
    "transaction_outliers_count = transaction_outliers_df.shape[0]\n",
    "\n",
    "print(f\"Number of outliers identified using the IQR method: {transaction_outliers_count}\")"
   ]
  },
  {
   "cell_type": "code",
   "execution_count": null,
   "id": "3fd98a14-9525-4ae1-8127-b74a851fd104",
   "metadata": {},
   "outputs": [],
   "source": [
    "# Step 2: Identify outliers using Z-scores\n",
    "z_scores = np.abs(stats.zscore(transactions_df[['TransactionValue', 'TransactionRedeemedPoints']]))\n",
    "\n",
    "# Define a threshold for Z-scores (commonly 3 is used to identify outliers)\n",
    "z_score_threshold = 3\n",
    "outliers_zscore = (z_scores > z_score_threshold)\n",
    "outliers_zscore_df = transactions_df[outliers_zscore.any(axis=1)]\n",
    "\n",
    "# Review the first few rows of Z-score outliers\n",
    "outliers_zscore_df.head()  "
   ]
  },
  {
   "cell_type": "code",
   "execution_count": null,
   "id": "633c29d3-916c-4428-816b-3b7d034362ca",
   "metadata": {},
   "outputs": [],
   "source": [
    "# Z-Score Method: Count the number of outliers in TransactionValue and TransactionRedeemedPoints\n",
    "outliers_zscore_count = outliers_zscore_df.shape[0]\n",
    "\n",
    "print(f\"Number of outliers identified using the Z-Score method: {outliers_zscore_count}\")"
   ]
  },
  {
   "cell_type": "code",
   "execution_count": null,
   "id": "0aee389d-1fbe-4ce7-84f4-58245cf713c4",
   "metadata": {},
   "outputs": [],
   "source": [
    "# Combine the IQR and Z-Score outliers into one dataframe and remove duplicates\n",
    "combined_outliers_df = pd.concat([transaction_outliers_df, outliers_zscore_df]).drop_duplicates()\n",
    "\n",
    "# Save the combined outliers dataset to a CSV file\n",
    "combined_outliers_df.to_csv(\"combined_outliers.csv\", index=False)"
   ]
  },
  {
   "cell_type": "code",
   "execution_count": null,
   "id": "8c4748f5-65d2-49bb-a799-7840dea83a13",
   "metadata": {},
   "outputs": [],
   "source": [
    "px.histogram(data_frame=combined_outliers_df , x = 'TransactionValue')"
   ]
  },
  {
   "cell_type": "code",
   "execution_count": null,
   "id": "301dd818-d8ca-444e-928c-1811de55c348",
   "metadata": {},
   "outputs": [],
   "source": [
    "px.histogram(data_frame=combined_outliers_df , x = 'TransactionRedeemedPoints')"
   ]
  },
  {
   "cell_type": "markdown",
   "id": "644758d8-5188-4944-a55a-5ca2c2e7a897",
   "metadata": {},
   "source": [
    ">- <font color = '#1E3E62' font size=\"5\">_**Since the outliers are legitimate transactions that reflect customer behavior (e.g., a customer makes an unusually large purchase or redeems a large number of points).**_</font>\n",
    ">- <font color = '#FF6500' font size=\"5\">_**I decided keeping them, as they could provide insights into high-value customers or infrequent but significant transactions.**_</font>"
   ]
  },
  {
   "cell_type": "markdown",
   "id": "2f1a36d8-94f8-45e8-a5dc-dc346b4f7891",
   "metadata": {
    "jp-MarkdownHeadingCollapsed": true
   },
   "source": [
    "# 📌 <font color='#1E3E62'>*_2- EDA (Exploratory of Data Analysis):_*</font> "
   ]
  },
  {
   "cell_type": "markdown",
   "id": "26b64a6a-bfca-49ec-b93f-befb43e70c65",
   "metadata": {
    "jp-MarkdownHeadingCollapsed": true
   },
   "source": [
    "## <font color='#FF6500'>*Univariate:*</font> "
   ]
  },
  {
   "cell_type": "code",
   "execution_count": null,
   "id": "c5bf905c-371b-4edc-acda-12062b7d2ac7",
   "metadata": {},
   "outputs": [],
   "source": [
    "# Insight 1: Distribution of transactions across different MerchantNames (top 10 merchants)\n",
    "merchant_count = transactions_df['MerchantName'].value_counts().nlargest(10).reset_index()\n",
    "merchant_count.columns = ['MerchantName', 'TransactionCount']\n",
    "fig1 = px.bar(merchant_count, x='MerchantName', y='TransactionCount', title='Top 10 Merchants by Transaction Count')\n",
    "fig1.show()\n",
    "\n",
    "# Insight 2: Count of transactions based on TransactionRank\n",
    "transaction_rank_count = transactions_df['TransactionRank'].value_counts().reset_index()\n",
    "transaction_rank_count.columns = ['TransactionRank', 'Count']\n",
    "fig2 = px.bar(transaction_rank_count, x='TransactionRank', y='Count', title='Count of Transactions by TransactionRank')\n",
    "fig2.show()\n",
    "\n",
    "# Insight 3: Number of transactions for each CustomerID (top 10 customers)\n",
    "customer_count = transactions_df['CustomerID'].value_counts().nlargest(10).reset_index()\n",
    "customer_count.columns = ['CustomerID', 'TransactionCount']\n",
    "fig3 = px.bar(customer_count, x='CustomerID', y='TransactionCount', title='Top 10 Customers by Transaction Count')\n",
    "fig3.show()\n",
    "\n",
    "# Insight 4: Frequency of customers based on TransactionRedeemedPoints brackets\n",
    "transactions_df['RedeemedPointsBracket'] = pd.cut(transactions_df['TransactionRedeemedPoints'], bins=[0, 1000, 5000, 10000, 50000], labels=['0-1000', '1000-5000', '5000-10000', '10000+'])\n",
    "redeemed_points_count = transactions_df['RedeemedPointsBracket'].value_counts().reset_index()\n",
    "redeemed_points_count.columns = ['RedeemedPointsBracket', 'Count']\n",
    "fig4 = px.bar(redeemed_points_count, x='RedeemedPointsBracket', y='Count', title='Frequency of Customers Based on Redeemed Points Brackets')\n",
    "fig4.show()\n",
    "\n",
    "# Insight 5: Count of transactions based on Merchant Category (using the Categories.csv dataset)\n",
    "transactions_with_category = pd.merge(transactions_df, categories_df, how='left', left_on='MerchantName', right_on='MerchantName')\n",
    "merchant_category_count = transactions_with_category['Category'].value_counts().reset_index()\n",
    "merchant_category_count.columns = ['Category', 'TransactionCount']\n",
    "fig5 = px.bar(merchant_category_count, x='Category', y='TransactionCount', title='Count of transactions based on Merchant Category')\n",
    "fig5.show()\n"
   ]
  },
  {
   "cell_type": "code",
   "execution_count": null,
   "id": "e081dac5-6113-459a-8e26-74979b1e4802",
   "metadata": {},
   "outputs": [],
   "source": [
    "# Insight 6: Scatter plot of CustomerID vs. TransactionValue\n",
    "fig6 = px.scatter(transactions_df, x='CustomerID', y='TransactionValue', title='CustomerID vs. Transaction Value')\n",
    "fig6.show()\n",
    "\n",
    "# Insight 7: Scatter plot of CustomerLastTransactionFrom(days)\n",
    "fig7 = px.scatter(transactions_df, x='CustomerID', y='CustomerLastTransactionFrom(days)', title='CustomerID vs. CustomerLastTransactionFrom(days)')\n",
    "fig7.show()\n",
    "\n",
    "# Insight 8: Scatter plot of TransactionValue\n",
    "fig8 = px.scatter(transactions_df, y='TransactionValue', title='Transaction Value Distribution')\n",
    "fig8.show()\n",
    "\n",
    "# Insight 9: Scatter plot of TransactionRedeemedPoints across customers\n",
    "fig9 = px.scatter(transactions_df, x='CustomerID', y='TransactionRedeemedPoints', title='CustomerID vs. Transaction Redeemed Points')\n",
    "fig9.show()\n",
    "\n",
    "# Insight 10: Scatter plot of TransactionRank\n",
    "fig10 = px.scatter(transactions_df, y='TransactionRank', title='Transaction Rank Distribution')\n",
    "fig10.show()"
   ]
  },
  {
   "cell_type": "code",
   "execution_count": null,
   "id": "c323e8f1-7263-40c1-b36f-d2afedfde2d4",
   "metadata": {},
   "outputs": [],
   "source": [
    "# Insight 11: Pie chart of the proportion of transactions by MerchantName (top 10 merchants)\n",
    "merchant_transaction_count = transactions_df['MerchantName'].value_counts().nlargest(10)\n",
    "fig11 = px.pie(merchant_transaction_count, values=merchant_transaction_count, names=merchant_transaction_count.index, title='Top 10 Merchants by Transaction Count')\n",
    "fig11.show()\n",
    "\n",
    "# Insight 12: Pie chart of the total number of TransactionRanks\n",
    "transaction_rank_count = transactions_df['TransactionRank'].value_counts()\n",
    "fig12 = px.pie(transaction_rank_count, values=transaction_rank_count, names=transaction_rank_count.index, title='Distribution of TransactionRank')\n",
    "fig12.show()\n",
    "\n",
    "# Insight 13: Pie chart of total transaction count by Merchant Category\n",
    "merchant_category_count = transactions_with_category['Category'].value_counts()\n",
    "fig13 = px.pie(merchant_category_count, values=merchant_category_count, names=merchant_category_count.index, title='Transaction Count by Merchant Category')\n",
    "fig13.show()\n",
    "\n",
    "# Insight 14: Pie chart of the percentage of customers based on TransactionRedeemedPoints ranges\n",
    "redeemed_points_bracket = transactions_df['RedeemedPointsBracket'].value_counts()\n",
    "fig14 = px.pie(redeemed_points_bracket, values=redeemed_points_bracket, names=redeemed_points_bracket.index, title='Redeemed Points Distribution')\n",
    "fig14.show()\n",
    "\n",
    "# Insight 15: Pie chart showing TransactionValue contribution by the top 5 merchants\n",
    "top_5_merchants = transactions_df.groupby('MerchantName')['TransactionValue'].sum().nlargest(5)\n",
    "fig15 = px.pie(top_5_merchants, values=top_5_merchants, names=top_5_merchants.index, title='Top 5 Merchants by Transaction Value')\n",
    "fig15.show()"
   ]
  },
  {
   "cell_type": "code",
   "execution_count": null,
   "id": "17429103-930b-46cf-b6d5-8020fc1b0952",
   "metadata": {},
   "outputs": [],
   "source": [
    "# Insight 16: Histogram of TransactionValue\n",
    "fig16 = px.histogram(transactions_df, x='TransactionValue', nbins=20, title='Transaction Value Distribution')\n",
    "fig16.show()\n",
    "\n",
    "# Insight 17: Histogram of TransactionRedeemedPoints\n",
    "fig17 = px.histogram(transactions_df, x='TransactionRedeemedPoints', nbins=20, title='Redeemed Points Distribution')\n",
    "fig17.show()\n",
    "\n",
    "# Insight 18: Histogram of TransactionFrom(days)\n",
    "fig18 = px.histogram(transactions_df, x='TransactionFrom(days)', nbins=20, title='Transaction From (days) Distribution')\n",
    "fig18.show()\n",
    "\n",
    "# Insight 19: Histogram of CustomerLastTransactionFrom(days)\n",
    "fig19 = px.histogram(transactions_df, x='CustomerLastTransactionFrom(days)', nbins=20, title='Customer Last Transaction From (days) Distribution')\n",
    "fig19.show()\n",
    "\n",
    "# Insight 20: Histogram of TransactionRank\n",
    "fig20 = px.histogram(transactions_df, x='TransactionRank', nbins=10, title='Transaction Rank Distribution')\n",
    "fig20.show()"
   ]
  },
  {
   "cell_type": "code",
   "execution_count": null,
   "id": "794d5f8e-218f-423a-a448-dea450d7b747",
   "metadata": {},
   "outputs": [],
   "source": [
    "# Insight 21: KDE plot of TransactionValue\n",
    "fig21 = px.density_contour(transactions_df, x='TransactionValue', title='KDE Plot of Transaction Value')\n",
    "fig21.show()\n",
    "\n",
    "# Insight 22: KDE plot of TransactionRedeemedPoints\n",
    "fig22 = px.density_contour(transactions_df, x='TransactionRedeemedPoints', title='KDE Plot of Redeemed Points')\n",
    "fig22.show()\n",
    "\n",
    "# Insight 23: KDE plot of CustomerLastTransactionFrom(days)\n",
    "fig23 = px.density_contour(transactions_df, x='CustomerLastTransactionFrom(days)', title='KDE Plot of Customer Last Transaction From (days)')\n",
    "fig23.show()\n",
    "\n",
    "# Insight 24: KDE plot of TransactionFrom(days)\n",
    "fig24 = px.density_contour(transactions_df, x='TransactionFrom(days)', title='KDE Plot of Transaction From (days)')\n",
    "fig24.show()\n",
    "\n",
    "# Insight 25: KDE plot of TransactionValue for the top 10 merchants\n",
    "top_10_merchants = transactions_df[transactions_df['MerchantName'].isin(transactions_df['MerchantName'].value_counts().nlargest(10).index)]\n",
    "fig25 = px.density_contour(top_10_merchants, x='TransactionValue', color='MerchantName', title='KDE Plot of Transaction Value for Top 10 Merchants')\n",
    "fig25.show()\n"
   ]
  },
  {
   "cell_type": "markdown",
   "id": "1c73a0db-74b2-418c-9a39-ecd485a6323b",
   "metadata": {
    "jp-MarkdownHeadingCollapsed": true
   },
   "source": [
    "## <font color='#FF6500'>*Bivariate:*</font> "
   ]
  },
  {
   "cell_type": "code",
   "execution_count": null,
   "id": "488d64a8-b448-4c6e-a719-bb6680bbb3e2",
   "metadata": {},
   "outputs": [],
   "source": [
    "# 1. Bar Plots \n",
    "\n",
    "# Insight 26: Bar plot of TransactionValue by MerchantName\n",
    "fig26 = px.bar(transactions_df.groupby('MerchantName')['TransactionValue'].sum().reset_index(), \n",
    "               x='MerchantName', y='TransactionValue', title='Transaction Value by Merchant Name')\n",
    "fig26.show()\n",
    "\n",
    "# Insight 27: Bar plot of TransactionRedeemedPoints by MerchantName\n",
    "fig27 = px.bar(transactions_df.groupby('MerchantName')['TransactionRedeemedPoints'].sum().reset_index(), \n",
    "               x='MerchantName', y='TransactionRedeemedPoints', title='Transaction Redeemed Points by Merchant Name')\n",
    "fig27.show()\n",
    "\n",
    "# Insight 28: Bar plot of TransactionValue by TransactionRank\n",
    "fig28 = px.bar(transactions_df.groupby('TransactionRank')['TransactionValue'].sum().reset_index(), \n",
    "               x='TransactionRank', y='TransactionValue', title='Transaction Value by Transaction Rank')\n",
    "fig28.show()\n",
    "\n",
    "# Insight 29: Bar plot of TransactionValue by CustomerID\n",
    "fig29 = px.bar(transactions_df.groupby('CustomerID')['TransactionValue'].sum().nlargest(10).reset_index(), \n",
    "               x='CustomerID', y='TransactionValue', title='Top 10 Customers by Transaction Value')\n",
    "fig29.show()\n",
    "\n",
    "# Insight 30: Bar plot of TransactionValue by CustomerLastTransactionFrom(days)\n",
    "fig30 = px.bar(transactions_df.groupby('CustomerLastTransactionFrom(days)')['TransactionValue'].sum().reset_index(), \n",
    "               x='CustomerLastTransactionFrom(days)', y='TransactionValue', title='Transaction Value by Days Since Last Transaction')\n",
    "fig30.show()"
   ]
  },
  {
   "cell_type": "code",
   "execution_count": null,
   "id": "26adf6c1-6547-4499-8634-307f3689ec86",
   "metadata": {},
   "outputs": [],
   "source": [
    "# 2. Scatter Plots \n",
    "\n",
    "# Insight 31: Scatter plot of TransactionValue vs TransactionRedeemedPoints\n",
    "fig31 = px.scatter(transactions_df, x='TransactionValue', y='TransactionRedeemedPoints', \n",
    "                   title='Transaction Value vs Redeemed Points')\n",
    "fig31.show()\n",
    "\n",
    "# Insight 32: Scatter plot of TransactionValue vs TransactionRank\n",
    "fig32 = px.scatter(transactions_df, x='TransactionRank', y='TransactionValue', \n",
    "                   title='Transaction Value vs Transaction Rank')\n",
    "fig32.show()\n",
    "\n",
    "# Insight 33: Scatter plot of TransactionFrom(days) vs TransactionValue\n",
    "fig33 = px.scatter(transactions_df, x='TransactionFrom(days)', y='TransactionValue', \n",
    "                   title='Transaction From (days) vs Transaction Value')\n",
    "fig33.show()\n",
    "\n",
    "# Insight 34: Scatter plot of CustomerLastTransactionFrom(days) vs TransactionValue\n",
    "fig34 = px.scatter(transactions_df, x='CustomerLastTransactionFrom(days)', y='TransactionValue', \n",
    "                   title='Customer Last Transaction From (days) vs Transaction Value')\n",
    "fig34.show()\n",
    "\n",
    "# Insight 35: Scatter plot of TransactionRedeemedPoints vs CustomerLastTransactionFrom(days)\n",
    "fig35 = px.scatter(transactions_df, x='CustomerLastTransactionFrom(days)', y='TransactionRedeemedPoints', \n",
    "                   title='Redeemed Points vs Days Since Last Transaction')\n",
    "fig35.show()\n"
   ]
  },
  {
   "cell_type": "code",
   "execution_count": null,
   "id": "adb68ed4-b16c-45e6-8c4c-f325e5f3e34b",
   "metadata": {},
   "outputs": [],
   "source": [
    "# 3. Pie Charts\n",
    "\n",
    "# Insight 36: Pie chart of TransactionValue proportion by Merchant Category\n",
    "merchant_category_value = transactions_with_category.groupby('Category')['TransactionValue'].sum().reset_index()\n",
    "fig36 = px.pie(merchant_category_value, values='TransactionValue', names='Category', \n",
    "               title='Transaction Value Proportion by Merchant Category')\n",
    "fig36.show()\n",
    "\n",
    "# Insight 37: Pie chart of TransactionValue vs TransactionRank\n",
    "transaction_value_rank = transactions_df.groupby('TransactionRank')['TransactionValue'].sum().reset_index()\n",
    "fig37 = px.pie(transaction_value_rank, values='TransactionValue', names='TransactionRank', \n",
    "               title='Transaction Value by Transaction Rank')\n",
    "fig37.show()\n",
    "\n",
    "# Insight 38: Pie chart of TransactionRedeemedPoints proportion by MerchantName\n",
    "merchant_redeemed_points = transactions_df.groupby('MerchantName')['TransactionRedeemedPoints'].sum().nlargest(10).reset_index()\n",
    "fig38 = px.pie(merchant_redeemed_points, values='TransactionRedeemedPoints', names='MerchantName', \n",
    "               title='Top 10 Merchants by Redeemed Points')\n",
    "fig38.show()\n",
    "\n",
    "# Insight 39: Pie chart of TransactionValue across different ranges of CustomerLastTransactionFrom(days)\n",
    "transactions_df['TransactionValueBracket'] = pd.cut(transactions_df['CustomerLastTransactionFrom(days)'], \n",
    "                                                    bins=[0, 100, 200, 300, 400], labels=['0-100', '100-200', '200-300', '300-400'])\n",
    "fig39 = px.pie(transactions_df.groupby('TransactionValueBracket')['TransactionValue'].sum().reset_index(), \n",
    "               values='TransactionValue', names='TransactionValueBracket', \n",
    "               title='Transaction Value by Days Since Last Transaction Bracket')\n",
    "fig39.show()\n",
    "\n",
    "# Insight 40: Pie chart of the number of TransactionRanks by Merchant Category\n",
    "rank_category_count = transactions_with_category.groupby('Category')['TransactionRank'].count().reset_index()\n",
    "fig40 = px.pie(rank_category_count, values='TransactionRank', names='Category', \n",
    "               title='Transaction Rank by Merchant Category')\n",
    "fig40.show()\n"
   ]
  },
  {
   "cell_type": "code",
   "execution_count": null,
   "id": "426a678f-cbf6-4f77-a902-0c33fb651414",
   "metadata": {},
   "outputs": [],
   "source": [
    "# 4. Histograms\n",
    "\n",
    "# Insight 41: Histogram of TransactionValue by TransactionRedeemedPoints range\n",
    "fig41 = px.histogram(transactions_df, x='TransactionValue', color='RedeemedPointsBracket', \n",
    "                     title='Transaction Value by Redeemed Points Range')\n",
    "fig41.show()\n",
    "\n",
    "# Insight 42: Histogram of TransactionValue across different Merchant Categories\n",
    "fig42 = px.histogram(transactions_with_category, x='TransactionValue', color='Category', \n",
    "                     title='Transaction Value by Merchant Category')\n",
    "fig42.show()\n",
    "\n",
    "# Insight 43: Histogram of TransactionValue across different ranges of CustomerLastTransactionFrom(days)\n",
    "fig43 = px.histogram(transactions_df, x='TransactionValue', color='TransactionValueBracket', \n",
    "                     title='Transaction Value by Days Since Last Transaction Bracket')\n",
    "fig43.show()\n",
    "\n",
    "# Insight 44: Histogram of TransactionValue by TransactionRank\n",
    "fig44 = px.histogram(transactions_df, x='TransactionValue', color='TransactionRank', \n",
    "                     title='Transaction Value by Transaction Rank')\n",
    "fig44.show()\n",
    "\n",
    "# Insight 45: Histogram of TransactionRedeemedPoints by TransactionRank\n",
    "fig45 = px.histogram(transactions_df, x='TransactionRedeemedPoints', color='TransactionRank', \n",
    "                     title='Redeemed Points by Transaction Rank')\n",
    "fig45.show()"
   ]
  },
  {
   "cell_type": "code",
   "execution_count": null,
   "id": "64e15fd1-a9a3-43da-bd66-9779068ae85e",
   "metadata": {},
   "outputs": [],
   "source": [
    "# Calculate Spearman correlation matrix\n",
    "spearman_corr = transactions_df.corr(method='spearman')"
   ]
  },
  {
   "cell_type": "code",
   "execution_count": null,
   "id": "6d6fe3d4-8f7d-4868-ba5f-5f6655969efe",
   "metadata": {},
   "outputs": [],
   "source": [
    "# Plot Heatmap for Spearman Correlation\n",
    "plt.figure(figsize=(10, 8))\n",
    "sns.heatmap(spearman_corr, annot=True, cmap='coolwarm', linewidths=0.5)\n",
    "plt.title('Heatmap of Spearman Correlation Matrix')\n",
    "plt.show()"
   ]
  },
  {
   "cell_type": "code",
   "execution_count": null,
   "id": "20b2db23-38f7-47fb-a27f-339571ebdafe",
   "metadata": {},
   "outputs": [],
   "source": [
    "# Display the Spearman correlation matrix\n",
    "print(spearman_corr)"
   ]
  },
  {
   "cell_type": "markdown",
   "id": "2eafad80-4545-4b2b-baa7-3cde0969ee5c",
   "metadata": {},
   "source": [
    "<font color = '#FF6500' font size=\"4\">**_1- TransactionRank:_**</font>\n",
    "\n",
    "<font size=\"3\">_**a) Correlation with TransactionValue & TransactionRedeemedPoints: −0.178:**_</font>\n",
    "\n",
    ">- **Both correlations are weak and negative:** This is indicating that higher **TransactionRank** tends to be associated with slightly **lower TransactionValue and TransactionRedeemedPoints**. However, since the correlation is not strong, rank only slightly impacts how much customers spend or how many points they redeem.\n",
    "\n",
    "<font size=\"3\">_**b) Correlation with TransactionFrom(days): −0.152:**_</font>\n",
    "\n",
    ">- **There is a weak negative correlation:** This is suggesting that transactions made further in the past tend to have slightly lower ranks.\n",
    "\n",
    "\n",
    "<font size=\"3\">_**c) Correlation with CustomerLastTransactionFrom(days): −0.214:**_</font>\n",
    "\n",
    ">- **This shows a weak negative correlationn:** Customers who have not transacted recently tend to have lower-ranked transactions, though the correlation is still quite weak.\n",
    "\n",
    "<font color = '#FF6500' font size=\"4\">**_2. TransactionRedeemedPoints & TransactionValue:_**</font>\n",
    "\n",
    "<font size=\"3\">_**Correlation: 1.000**_</font>\n",
    "\n",
    ">- **These two features have a perfect positive correlation:** This means that **TransactionRedeemedPoints and TransactionValue are identical or directly proportional in this dataset**. In practical terms, the amount spent in a transaction is exactly matched by the points redeemed, or at least they track each other perfectly.\n",
    "\n",
    "<font color = '#FF6500' font size=\"4\">**_3. TransactionFrom(days):_**</font>\n",
    "\n",
    "<font size=\"3\">_**Correlation with CustomerLastTransactionFrom(days): 0.694**_</font>\n",
    "\n",
    ">- **There is a strong positive correlation:** This suggests that customers who made their first transaction a long time ago also tend to have their most recent transaction further in the past, which is expected. **The correlation is not perfect but shows a strong tendency.**\n",
    "\n",
    "<font color = '#FF6500' font size=\"4\">**_4. CustomerLastTransactionFrom(days):_**</font>\n",
    "\n",
    "<font size=\"3\">_**Correlation with Other Variables:**_</font>\n",
    "\n",
    ">- **The correlation with all other variables except TransactionFrom(days) is very weak (below 0.2):** This implies that how long it has been since the customer’s last transaction does not strongly relate to any other feature except for how long ago the customer made their first transaction."
   ]
  },
  {
   "cell_type": "markdown",
   "id": "bc2c4605-e313-45e7-b145-ccd3648d8def",
   "metadata": {},
   "source": [
    "<font color = '#FF6500' font size=\"4\">**Summary of Insights:_**</font>\n",
    "\n",
    "<font size=\"3\">_**TransactionRedeemedPoints and TransactionValue are perfectly correlated**_</font>\n",
    ">- _This suggests that for each transaction, the points redeemed are directly proportional to the transaction value._\n",
    "\n",
    "<font size=\"3\">_**TransactionRank has a weak negative relationship with TransactionValue and TransactionRedeemedPoints**_</font>\n",
    ">- _This is meaning higher transaction ranks slightly correlate with lower spending and points redeemed, but the effect is not very strong._\n",
    "\n",
    "<font size=\"3\">_**TransactionFrom(days) and CustomerLastTransactionFrom(days) are strongly positively correlated, which makes intuitive sense:**_</font>\n",
    ">- _Customers who have been with the business longer (earlier first transactions) also tend to have had more recent transactions further in the past._\n",
    "\n",
    "<font size=\"3\">_**Most other relationships are quite weak**_</font>\n",
    "> - _This is meaning the variables are largely independent of each other, or their relationships are non-linear._"
   ]
  },
  {
   "cell_type": "markdown",
   "id": "fb7c1083-1585-4479-a568-a3c4d89bcaf1",
   "metadata": {
    "jp-MarkdownHeadingCollapsed": true
   },
   "source": [
    "# 📌 <font color='#1E3E62'>*_3- Data Preprocessing:_*</font> "
   ]
  },
  {
   "cell_type": "markdown",
   "id": "ee173aca-dab0-4c29-91e5-6d9e26ce4695",
   "metadata": {},
   "source": [
    "<font color = '#1E3E62' font size=\"4\">**_Steps for RFM Clustering:_**</font>\n",
    "\n",
    "<font color = '#FF6500' font size=\"4\">**_1. Calculate RFM Scores:_**</font>\n",
    "\n",
    ">- **Recency:** The number of days since the customer's last transaction.\n",
    ">- **Frequency:** The total number of transactions for each customer.\n",
    ">- **Monetary:** The total value of transactions for each customer.\n",
    "\n",
    "<font color = '#FF6500' font size=\"4\">**_2. Scale the Features:_**</font>\n",
    ">- Apply standard scaling to the RFM values to normalize them for clustering.\n",
    "\n",
    "<font color = '#FF6500' font size=\"4\">**_3. Apply KMeans Clustering:_**</font>\n",
    ">- Use KMeans to segment customers based on their RFM scores.\n",
    "\n",
    "<>>>>>>>>>>>>>>>>>>>>>>>>>>>>>>>>>>>>>>>>>>>>>>>>>>>>>>>>>>>>>>>\n",
    "\n",
    "<font color = '#FF6500' font size=\"4\">**_After completing the above steps:_**</font>\n",
    "\n",
    ">- **Recency:** Lower values indicate that customers have transacted recently.\n",
    ">- **Frequency:** Higher values indicate more frequent transactions.\n",
    ">- **Monetary:** Higher values indicate that customers spend more.\n",
    "\n",
    "<font color = '#FF6500' font size=\"4\">_The resulting clusters will show you which group of customers are **frequent, high-value, or lapsed** based on their RFM scores._</font>"
   ]
  },
  {
   "cell_type": "code",
   "execution_count": null,
   "id": "a55385a8-9334-40d2-8514-d302f7e54be8",
   "metadata": {},
   "outputs": [],
   "source": [
    "# Calculate Recency, Frequency, and Monetary value for each customer\n",
    "rfm_df = transactions_df.groupby('CustomerID').agg({\n",
    "    'CustomerLastTransactionFrom(days)': 'min',  # Recency\n",
    "    'TransactionRank': 'count',                 # Frequency\n",
    "    'TransactionValue': 'sum'                   # Monetary value\n",
    "}).reset_index()\n",
    "\n",
    "# Rename columns for clarity\n",
    "rfm_df.columns = ['CustomerID', 'Recency', 'Frequency', 'Monetary']"
   ]
  },
  {
   "cell_type": "code",
   "execution_count": null,
   "id": "219599c4-45d4-4eb3-8024-0560e79a84d3",
   "metadata": {},
   "outputs": [],
   "source": [
    "rfm_df.head(100)"
   ]
  },
  {
   "cell_type": "code",
   "execution_count": null,
   "id": "396cd9f7-3305-4b6b-aed1-b639cadf71b2",
   "metadata": {},
   "outputs": [],
   "source": [
    "# Step 2: Standardize the RFM values\n",
    "scaler = StandardScaler()\n",
    "rfm_scaled = scaler.fit_transform(rfm_df[['Recency', 'Frequency', 'Monetary']])"
   ]
  },
  {
   "cell_type": "code",
   "execution_count": null,
   "id": "8dac1755-28f1-4dd0-b666-1ea25275be95",
   "metadata": {},
   "outputs": [],
   "source": [
    "# Step 3: Apply KMeans Clustering (You can adjust the number of clusters)\n",
    "kmeans = KMeans(n_clusters=4, random_state=42)\n",
    "rfm_df['RFM_Cluster'] = kmeans.fit_predict(rfm_scaled)"
   ]
  },
  {
   "cell_type": "code",
   "execution_count": null,
   "id": "221f14e1-4cac-47a1-b8d1-eea33aa1abec",
   "metadata": {},
   "outputs": [],
   "source": [
    "# Step 4: Analyze the resulting clusters\n",
    "cluster_analysis = rfm_df.groupby('RFM_Cluster').agg({\n",
    "    'Recency': 'mean',\n",
    "    'Frequency': 'mean',\n",
    "    'Monetary': 'mean',\n",
    "    'CustomerID': 'count'  # Number of customers in each cluster\n",
    "}).reset_index()\n",
    "\n",
    "print(cluster_analysis)"
   ]
  },
  {
   "cell_type": "markdown",
   "id": "9eb2b340-62f8-456a-9820-9fdebaf2935f",
   "metadata": {},
   "source": [
    "<font color = '#1E3E62' font size=\"4\">_**Cluster Interpretation:**_</font>\n",
    "\n",
    "<font color = '#FF6500' font size=\"4\">_**Cluster 0:**_</font>\n",
    "\n",
    ">- **Recency (62 days):** These customers have made recent purchases but are not the most recent.\n",
    ">- **Frequency (1.2 transactions):** They make infrequent purchases.\n",
    ">- **Monetary (372.93):** They spend a moderate amount when they purchase.\n",
    ">- **Interpretation:** <font color = '#0F6292'>_**Hibernating**_</font> ; <font color = '#FF0075'>_**These customers are at risk of becoming inactive, and they spend a moderate amount. You may want to re-engage them with personalized offers or discounts.**_</font>\n",
    "\n",
    "<font color = '#FF6500' font size=\"4\">_**Cluster 1:**_</font>\n",
    "\n",
    ">- **Recency (268 days):** These customers have not purchased in a long time.\n",
    ">- **Frequency (1.07 transactions):** They rarely make purchases.\n",
    ">- **Monetary (346.45):** They spend a relatively low amount.\n",
    ">- **Interpretation:** <font color = '#0F6292'>_**At Risk**_</font> ; <font color = '#FF0075'>_**These customers haven’t purchased in a long time and spend little. You should focus on reactivating them with targeted promotions or win-back campaigns.**_</font>\n",
    "\n",
    "<font color = '#FF6500' font size=\"4\">_**Cluster 2:**_</font>\n",
    "\n",
    ">- **Recency (43 days):** These customers have made very recent purchases.\n",
    ">- **Frequency (25 transactions):** They purchase very frequently.\n",
    ">- **Monetary (144,865.95):** They spend a very high amount.\n",
    ">- **Interpretation:** <font color = '#0F6292'>_**Champions**_</font> ; <font color = '#FF0075'>_**These are your best customers. They purchase frequently, spend a lot, and have made recent purchases. Focus on retaining them with exclusive offers and loyalty programs.**_</font>\n",
    "\n",
    "<font color = '#FF6500' font size=\"4\">_**Cluster 3:**_</font>\n",
    "\n",
    ">- **Recency (80 days):** These customers have made relatively recent purchases.\n",
    ">- **Frequency (3.93 transactions):** They purchase occasionally.\n",
    ">- **Monetary (1,557.74):** They spend a moderate amount.\n",
    ">- **Interpretation:** <font color = '#0F6292'>_**Loyal Customers**_</font> ; <font color = '#FF0075'>_**These customers are loyal and make regular purchases. You can further nurture them to increase their frequency and spending.**_</font>\n"
   ]
  },
  {
   "cell_type": "code",
   "execution_count": null,
   "id": "e7bf9c9e-054a-46f3-9718-494b3d7b51ed",
   "metadata": {},
   "outputs": [],
   "source": [
    "# Create a mapping of cluster numbers to their interpretation\n",
    "cluster_labels = {\n",
    "    0: 'Hibernating',\n",
    "    1: 'At Risk',\n",
    "    2: 'Champions',\n",
    "    3: 'Loyal Customers'\n",
    "}\n",
    "\n",
    "# Add a new column 'Lable' that maps the RFM_Cluster to its interpretation\n",
    "rfm_df['Label'] = rfm_df['RFM_Cluster'].map(cluster_labels)\n",
    "\n",
    "# Display the updated dataframe\n",
    "print(rfm_df[['CustomerID', 'RFM_Cluster', 'Recency', 'Frequency', 'Monetary', 'Label']])"
   ]
  },
  {
   "cell_type": "code",
   "execution_count": null,
   "id": "a6ab0722-fc9c-4e9d-b824-d457ac2871e2",
   "metadata": {},
   "outputs": [],
   "source": [
    "# Scatter plot of Recency vs Monetary with cluster labels\n",
    "plt.figure(figsize=(10, 6))\n",
    "sns.scatterplot(data=rfm_df, x='Recency', y='Monetary', hue='Label', palette='viridis')\n",
    "plt.title('RFM Clusters: Recency vs Monetary')\n",
    "plt.show()"
   ]
  },
  {
   "cell_type": "code",
   "execution_count": null,
   "id": "1f73340a-b41a-418a-911e-072b0f99e8db",
   "metadata": {},
   "outputs": [],
   "source": [
    "# 3D Scatter Plot using Plotly Express\n",
    "fig = px.scatter_3d(rfm_df, x='Recency', y='Frequency', z='Monetary', color='Label', title=\"RFM Clustering in 3D\")\n",
    "fig.show()"
   ]
  },
  {
   "cell_type": "code",
   "execution_count": null,
   "id": "d70b1624-9fb1-4976-b86f-43ecc5516432",
   "metadata": {},
   "outputs": [],
   "source": [
    "# Bar plot of average Recency, Frequency, and Monetary by Cluster\n",
    "cluster_agg = rfm_df.groupby('RFM_Cluster').mean()[['Recency', 'Frequency', 'Monetary']].reset_index()\n",
    "\n",
    "# Plot the aggregated data\n",
    "cluster_agg.plot(kind='bar', figsize=(10, 6), x='RFM_Cluster')\n",
    "plt.title('Average RFM Values by Cluster')\n",
    "plt.ylabel('Average Value')\n",
    "plt.show()"
   ]
  },
  {
   "cell_type": "code",
   "execution_count": null,
   "id": "93102e21-806f-4331-a9cb-744e9b57348c",
   "metadata": {},
   "outputs": [],
   "source": [
    "sns.pairplot(rfm_df, hue='Label', vars=['Recency', 'Frequency', 'Monetary'], palette='viridis')\n",
    "plt.title('RFM Cluster Pair Plot')\n",
    "plt.show()\n"
   ]
  },
  {
   "cell_type": "markdown",
   "id": "0fd38f0e-90a3-4161-8908-807a649baac7",
   "metadata": {},
   "source": [
    "<font color = '#1E3E62' font size=\"5\">_**Action Plan**_</font>"
   ]
  },
  {
   "cell_type": "markdown",
   "id": "597973fa-e957-4395-b138-bc921cf6d477",
   "metadata": {},
   "source": [
    "<font color = '#1E3E62' font size=\"4\">_**1. Champions (Cluster 2)**_</font>\n",
    "\n",
    "<font color = '#FF6500' font size=\"4\">_**Characteristics:**_</font>:\n",
    "\n",
    ">- **Recent purchases (Recency: 43 days).**\n",
    ">- **Frequent buyers (Frequency: 25 transactions).**\n",
    ">- **High spenders (Monetary: $144,865.95).**\n",
    "\n",
    "<font color = '#C70039' font size=\"4\">_**Action Plan:**_</font>:\n",
    "\n",
    "**a) Reward Loyalty:** These are your most valuable customers, so focus on retaining them.\n",
    ">- Implement a VIP program that offers exclusive benefits (e.g., early access to products, special discounts).\n",
    ">- Personalized offers or thank-you messages to make them feel appreciated.\n",
    "\n",
    "**b) Engagement:** Keep them engaged with loyalty points, personalized product recommendations, and regular communication (email, SMS).\n",
    "\n",
    "**c) Referrals:** Leverage this group for referral programs to bring in new customers.\n",
    "\n",
    "**d) Feedback:** Ask for feedback to improve your offerings or customer experience.\n",
    "\n",
    "<font color = '#1E3E62' font size=\"4\">_**2. Loyal Customers (Cluster 3)**_</font>\n",
    "\n",
    "<font color = '#FF6500' font size=\"4\">_**Characteristics:**_</font>:\n",
    "\n",
    ">- **Fairly recent purchases (Recency: 80 days).**\n",
    ">- **Regular buyers (Frequency: 3.93 transactions).**\n",
    ">- **Moderate spenders (Monetary: $1,557.74).**\n",
    "\n",
    "<font color = '#C70039' font size=\"4\">_**Action Plan:**_</font>:\n",
    "\n",
    "**a) Nurture Relationship:** Keep these customers coming back with frequent engagement.\n",
    ">- Offer loyalty rewards based on their continued patronage (e.g., points, discounts).\n",
    ">- Provide personalized product recommendations or bundles based on past purchases.\n",
    "\n",
    "**b) Upsell and Cross-sell:** Introduce them to higher-value products or complementary items to increase their spending.\n",
    "\n",
    "**c) Exclusive Offers:** Send them occasional exclusive deals or previews to boost their sense of loyalty.\n",
    "\n",
    "<font color = '#1E3E62' font size=\"4\">_**3. Hibernating (Cluster 0)**_</font>\n",
    "\n",
    "<font color = '#FF6500' font size=\"4\">_**Characteristics:**_</font>:\n",
    "\n",
    ">- **Moderately recent purchases (Recency: 62 days).**\n",
    ">- **Low frequency of purchases (Frequency: 1.2 transactions).**\n",
    ">- **Moderate spenders (Monetary: $372.93).**\n",
    "\n",
    "<font color = '#C70039' font size=\"4\">_**Action Plan:**_</font>:\n",
    "\n",
    "**a) Reactivation Campaigns:** These customers are at risk of becoming inactive.\n",
    ">- Launch win-back campaigns to re-engage them with incentives like limited-time discounts, free shipping, or other offers.\n",
    "\n",
    "**b) Highlight New Products:** Show them new arrivals, updates, or popular products to encourage another purchase.\n",
    "\n",
    "**c) Personalized Offers:** Provide personalized offers based on past purchases to remind them of your brand.\n",
    "\n",
    "**d) Content Marketing:** Send engaging content, such as newsletters or product tips, to keep them interested in your brand.\n",
    "\n",
    "<font color = '#1E3E62' font size=\"4\">_**4. At Risk (Cluster 1)**_</font>\n",
    "\n",
    "<font color = '#FF6500' font size=\"4\">_**Characteristics:**_</font>:\n",
    "\n",
    ">- **Customers have not purchased in a long time (Recency: 268 days).**\n",
    ">- **Rare buyers (Frequency: 1.07 transactions).**\n",
    ">- **Relatively low spenders (Monetary: $346.45).**\n",
    "\n",
    "<font color = '#C70039' font size=\"4\">_**Action Plan:**_</font>:\n",
    "\n",
    "**a) Aggressive Re-engagement:** These customers are in danger of churning.\n",
    ">- Offer significant incentives like heavily discounted items, personalized offers, or free shipping to encourage a comeback.\n",
    ">- Send \"We Miss You\" emails or messages with personalized offers tailored to their past purchases.\n",
    "\n",
    "**b) Surveys:** Ask for feedback to understand why they haven’t purchased recently and address their concerns.\n",
    "\n",
    "**c) Targeted Ads:** Use retargeting ads to remind them of your brand and promote relevant products.\n",
    "\n",
    "**d) Win-back Strategies:** Create urgency by offering time-sensitive deals to bring them back.\n",
    "\n",
    "<font color = '#FF0000' font size=\"4\">_**General Strategies for Each Cluster:**_</font>\n",
    "\n",
    "**(1) Retention:** The most important action for clusters like Champions and Loyal Customers is to retain them. They are already loyal and high-spending, so your goal is to ensure they continue to engage with your brand by offering consistent value, rewards, and personalized communication.\n",
    "\n",
    "**(2) Reactivation:** For clusters like Hibernating and At Risk, the goal is to re-engage these customers before they churn completely. This can be done with discounts, personalized offers, and timely communication.\n",
    "\n",
    "**(3) Segmentation-Based Offers:** Tailor your offers and communication according to each cluster's behavior. For example, offer high-value products to Champions, upselling options to Loyal Customers, and heavy discounts or win-back offers to At Risk and Hibernating customers.\n",
    "\n",
    "**(4) Personalization:** Across all clusters, personalized communication (such as product recommendations, birthday offers, or special occasions) can help improve customer engagement and drive sales.\n",
    "\n"
   ]
  },
  {
   "cell_type": "markdown",
   "id": "e578450d-ebee-4a57-81ea-55979a69d931",
   "metadata": {},
   "source": [
    "# 📌 <font color='#1E3E62'>*_4- Model Data:_*</font> "
   ]
  },
  {
   "cell_type": "markdown",
   "id": "3ac23914-5ae2-4930-9f38-7a390732e51f",
   "metadata": {},
   "source": [
    "<font color = '#FF6500' font size=\"4\">**_Step 1: Clustering Algorithms Overview_**</font>\n",
    "\n",
    "_We'll try several clustering algorithms that are suitable for customer segmentation:_\n",
    "\n",
    ">- **1- K-Means:** A classic centroid-based clustering algorithm.\n",
    ">- **2- DBSCAN (Density-Based Spatial Clustering):** A density-based clustering method that identifies clusters based on dense regions of data points.\n",
    ">- **3- Agglomerative Hierarchical Clustering:** A hierarchical clustering method that creates clusters by merging or splitting existing clusters based on distance.\n",
    ">- **4- Gaussian Mixture Model (GMM):** A probabilistic model that assumes data points are generated from a mixture of several Gaussian distributions.\n",
    "\n",
    "<font color = '#FF6500' font size=\"4\">**_Step 2: Choosing the Right Metrics_**</font>\n",
    "\n",
    "_We will evaluate each clustering algorithm using common metrics to choose the best one:_\n",
    "\n",
    ">- **1- Silhouette Score:** Measures how similar points are within a cluster compared to other clusters.\n",
    ">- **2- Davies-Bouldin Index:** Measures the average similarity ratio of each cluster with the one that is most similar to it (lower is better).\n",
    ">- **3- Inertia (KMeans only):** Measures the within-cluster sum of squares (the lower, the better for K-Means)."
   ]
  },
  {
   "cell_type": "code",
   "execution_count": null,
   "id": "5a1a973a-9dbd-483e-bb72-d309369ac2ba",
   "metadata": {},
   "outputs": [],
   "source": [
    "from sklearn.cluster import KMeans, DBSCAN, AgglomerativeClustering\n",
    "from sklearn.mixture import GaussianMixture\n",
    "from sklearn.metrics import silhouette_score, davies_bouldin_score\n",
    "\n",
    "# Function to evaluate and return the best clustering model and all models with their metrics\n",
    "def evaluate_clustering_models(rfm_scaled):\n",
    "    models = {}\n",
    "    \n",
    "    # K-Means\n",
    "    best_score = -float('inf')  # Combined evaluation metric\n",
    "    for k in range(2, 10):\n",
    "        kmeans = KMeans(n_clusters=k, random_state=42, n_init=10)\n",
    "        labels = kmeans.fit_predict(rfm_scaled)\n",
    "        silhouette_avg = silhouette_score(rfm_scaled, labels)\n",
    "        davies_bouldin = davies_bouldin_score(rfm_scaled, labels)\n",
    "        combined_score = silhouette_avg - davies_bouldin\n",
    "        \n",
    "        print(f'[KMeans] k={k}, Silhouette Score: {silhouette_avg}, Davies-Bouldin Score: {davies_bouldin}, Combined Score: {combined_score}')\n",
    "        \n",
    "        if combined_score > best_score:\n",
    "            best_score = combined_score\n",
    "            models['KMeans'] = {\n",
    "                'model': kmeans,\n",
    "                'combined_score': combined_score,\n",
    "                'silhouette_avg': silhouette_avg,\n",
    "                'davies_bouldin': davies_bouldin\n",
    "            }\n",
    "\n",
    "    # DBSCAN\n",
    "    best_score = -float('inf')\n",
    "    for eps in [0.5, 1.0, 1.5]:\n",
    "        for min_samples in [5, 10, 20]:\n",
    "            dbscan = DBSCAN(eps=eps, min_samples=min_samples)\n",
    "            labels = dbscan.fit_predict(rfm_scaled)\n",
    "            if len(set(labels)) > 1:  # Only calculate silhouette score if more than one cluster is found\n",
    "                silhouette_avg = silhouette_score(rfm_scaled, labels)\n",
    "                davies_bouldin = davies_bouldin_score(rfm_scaled, labels)\n",
    "                combined_score = silhouette_avg - davies_bouldin\n",
    "                \n",
    "                print(f'[DBSCAN] eps={eps}, min_samples={min_samples}, Silhouette Score: {silhouette_avg}, Davies-Bouldin Score: {davies_bouldin}, Combined Score: {combined_score}')\n",
    "                \n",
    "                if combined_score > best_score:\n",
    "                    best_score = combined_score\n",
    "                    models['DBSCAN'] = {\n",
    "                        'model': dbscan,\n",
    "                        'combined_score': combined_score,\n",
    "                        'silhouette_avg': silhouette_avg,\n",
    "                        'davies_bouldin': davies_bouldin\n",
    "                    }\n",
    "\n",
    "    # Agglomerative Clustering\n",
    "    best_score = -float('inf')\n",
    "    for n_clusters in range(2, 10):\n",
    "        for linkage in ['ward', 'complete', 'average']:\n",
    "            agglomerative = AgglomerativeClustering(n_clusters=n_clusters, linkage=linkage)\n",
    "            labels = agglomerative.fit_predict(rfm_scaled)\n",
    "            silhouette_avg = silhouette_score(rfm_scaled, labels)\n",
    "            davies_bouldin = davies_bouldin_score(rfm_scaled, labels)\n",
    "            combined_score = silhouette_avg - davies_bouldin\n",
    "            \n",
    "            print(f'[Agglomerative] n_clusters={n_clusters}, linkage={linkage}, Silhouette Score: {silhouette_avg}, Davies-Bouldin Score: {davies_bouldin}, Combined Score: {combined_score}')\n",
    "            \n",
    "            if combined_score > best_score:\n",
    "                best_score = combined_score\n",
    "                models['Agglomerative'] = {\n",
    "                    'model': agglomerative,\n",
    "                    'combined_score': combined_score,\n",
    "                    'silhouette_avg': silhouette_avg,\n",
    "                    'davies_bouldin': davies_bouldin\n",
    "                }\n",
    "\n",
    "    # Gaussian Mixture Model (GMM)\n",
    "    best_score = -float('inf')\n",
    "    for n_components in range(2, 10):\n",
    "        gmm = GaussianMixture(n_components=n_components, random_state=42)\n",
    "        labels = gmm.fit_predict(rfm_scaled)\n",
    "        silhouette_avg = silhouette_score(rfm_scaled, labels)\n",
    "        davies_bouldin = davies_bouldin_score(rfm_scaled, labels)\n",
    "        combined_score = silhouette_avg - davies_bouldin\n",
    "        \n",
    "        print(f'[GMM] n_components={n_components}, Silhouette Score: {silhouette_avg}, Davies-Bouldin Score: {davies_bouldin}, Combined Score: {combined_score}')\n",
    "        \n",
    "        if combined_score > best_score:\n",
    "            best_score = combined_score\n",
    "            models['GMM'] = {\n",
    "                'model': gmm,\n",
    "                'combined_score': combined_score,\n",
    "                'silhouette_avg': silhouette_avg,\n",
    "                'davies_bouldin': davies_bouldin\n",
    "            }\n",
    "\n",
    "    # Select the best model based on the highest combined score\n",
    "    best_model_name = max(models, key=lambda key: models[key]['combined_score'])\n",
    "    best_model = models[best_model_name]\n",
    "    \n",
    "    print(f'\\nBest Model: {best_model_name}, Silhouette Avg: {best_model[\"silhouette_avg\"]}, Davies Bouldin: {best_model[\"davies_bouldin\"]}, Combined Score: {best_model[\"combined_score\"]}')\n",
    "    \n",
    "    return best_model, models\n",
    "\n",
    "# Run the evaluation and get the best model along with all models\n",
    "best_model, models = evaluate_clustering_models(rfm_scaled)\n",
    "\n",
    "# Assign cluster labels to the dataframe\n",
    "rfm_df['KMeans_Cluster'] = models['KMeans']['model'].labels_\n",
    "rfm_df['DBSCAN_Cluster'] = models['DBSCAN']['model'].labels_\n",
    "rfm_df['Hierarchical_Cluster'] = models['Agglomerative']['model'].labels_\n",
    "rfm_df['GMM_Cluster'] = models['GMM']['model'].predict(rfm_scaled)\n",
    "\n",
    "# Saving the resulting dataframe to a CSV file\n",
    "rfm_df.to_csv(\"RFM_Clustering_Results.csv\", index=False)\n",
    "print(\"The Dataset RFM_Clustering_Results.csv has been created successfully\")"
   ]
  },
  {
   "cell_type": "code",
   "execution_count": null,
   "id": "a71745fe-3f37-4316-aefc-208e0d7bef21",
   "metadata": {},
   "outputs": [],
   "source": [
    "rfm_df.head()"
   ]
  },
  {
   "cell_type": "code",
   "execution_count": null,
   "id": "cd98c5f5-83fb-4913-aff0-a7e7b4167101",
   "metadata": {},
   "outputs": [],
   "source": [
    "# Cluster labeling map for all algorithms\n",
    "cluster_labels = {\n",
    "    -1: 'Noise',\n",
    "    0: 'Hibernating',\n",
    "    1: 'At Risk',\n",
    "    2: 'Champions',\n",
    "    3: 'Loyal',\n",
    "    4: 'Best',\n",
    "    5: 'Greedy'\n",
    "}\n",
    "\n",
    "# Function to map cluster numbers to labels\n",
    "def label_clusters(cluster_column, algorithm_name):\n",
    "    return cluster_column.map(cluster_labels)\n",
    "\n",
    "# Step to evaluate clustering models (assuming you have the evaluate_clustering_models() function already implemented)\n",
    "# best_model, models = evaluate_clustering_models(rfm_scaled)\n",
    "\n",
    "# Adding cluster labels for each algorithm\n",
    "rfm_df['KMeans_Cluster_Label'] = label_clusters(rfm_df['KMeans_Cluster'], 'KMeans')\n",
    "rfm_df['DBSCAN_Cluster_Label'] = label_clusters(rfm_df['DBSCAN_Cluster'], 'DBSCAN')\n",
    "rfm_df['Hierarchical_Cluster_Label'] = label_clusters(rfm_df['Hierarchical_Cluster'], 'Hierarchical')\n",
    "rfm_df['GMM_Cluster_Label'] = label_clusters(rfm_df['GMM_Cluster'], 'GMM')\n",
    "\n",
    "# Selecting and saving the final dataframe with labels\n",
    "columns_to_save = [\n",
    "    'CustomerID', 'Recency', 'Frequency', 'Monetary', 'RFM_Cluster', 'Label',\n",
    "    'KMeans_Cluster', 'KMeans_Cluster_Label',\n",
    "    'DBSCAN_Cluster', 'DBSCAN_Cluster_Label',\n",
    "    'Hierarchical_Cluster', 'Hierarchical_Cluster_Label',\n",
    "    'GMM_Cluster', 'GMM_Cluster_Label'\n",
    "]\n",
    "\n",
    "# Saving the result to a CSV file\n",
    "rfm_df[columns_to_save].to_csv(\"RFM_Clustering_Labeled_Results.csv\", index=False)\n",
    "print(\"The Dataset with Cluster Labels has been created successfully.\")"
   ]
  },
  {
   "cell_type": "code",
   "execution_count": null,
   "id": "7c5f295f-3313-438d-86d0-5f32e73850a6",
   "metadata": {},
   "outputs": [],
   "source": [
    "rfm_df.head()"
   ]
  },
  {
   "cell_type": "code",
   "execution_count": null,
   "id": "59788fa9-ba7a-446e-9698-87c07e7a828f",
   "metadata": {},
   "outputs": [],
   "source": [
    "# Selecting the specified columns to display in the DataFrame\n",
    "columns_to_display = [\n",
    "    'CustomerID', 'Recency', 'Frequency', 'Monetary', \n",
    "    'RFM_Cluster', 'Label', 'Hierarchical_Cluster', 'Hierarchical_Cluster_Label'\n",
    "]\n",
    "\n",
    "# Display the DataFrame with the selected columns\n",
    "rfm_display_df = rfm_df[columns_to_display]\n",
    "rfm_display_df"
   ]
  },
  {
   "cell_type": "code",
   "execution_count": null,
   "id": "6024b54f-1a99-480b-b35b-2e08aea51a3d",
   "metadata": {},
   "outputs": [],
   "source": [
    "# Merging transaction data with the RFM clustering results\n",
    "merged_df = pd.merge(transactions_df, rfm_df, on='CustomerID', how='left')\n",
    "\n",
    "# Merge merchant categories as well to contain transaction data, RFM segmentation, and merchant categories\n",
    "merged_df = pd.merge(merged_df, categories_df, left_on='MerchantName', right_on='MerchantName', how='left')\n",
    "\n",
    "merged_df"
   ]
  },
  {
   "cell_type": "code",
   "execution_count": null,
   "id": "5736bdc8-92bc-4b0b-9909-ad976747e877",
   "metadata": {},
   "outputs": [],
   "source": [
    "# Selecting the specified columns to display in the DataFrame\n",
    "columns_to_display = [\n",
    "    'CustomerID', 'MerchantName', 'Category', 'TransactionRank', 'TransactionRedeemedPoints', 'TransactionValue', 'TransactionFrom(days)',\n",
    "    'CustomerLastTransactionFrom(days)', 'Recency', 'Frequency', 'Monetary', \n",
    "    'RFM_Cluster', 'Label','Hierarchical_Cluster', 'Hierarchical_Cluster_Label'\n",
    "]\n",
    "\n",
    "# Display the DataFrame with the selected columns\n",
    "merged_labeled_df = merged_df[columns_to_display]\n",
    "merged_labeled_df\n",
    "\n",
    "# Saving the result to a CSV file\n",
    "merged_labeled_df.to_csv(\"RFM_Clustering_Labeled_Final.csv\", index=False)\n",
    "print(\"The Dataset 'RFM_Clustering_Labeled_Final.csv' has been created successfully.\")"
   ]
  },
  {
   "cell_type": "code",
   "execution_count": null,
   "id": "37ae1633-9ead-45dd-9ca8-e663dee9b7fc",
   "metadata": {},
   "outputs": [],
   "source": [
    "# Aggregate transaction data by CustomerID and MerchantName\n",
    "# This calculates the total amount spent and the count of transactions for each customer-merchant pair\n",
    "merchant_data = merged_df.groupby(['CustomerID', 'MerchantName']).agg({\n",
    "    'TransactionValue': 'sum',  # Total value spent\n",
    "    'TransactionRank': 'count'  # Transaction frequency\n",
    "}).reset_index()\n",
    "\n",
    "# Rename columns for clarity\n",
    "merchant_data.columns = ['CustomerID', 'MerchantName', 'Total_Spent', 'Transaction_Count']\n",
    "\n",
    "# Group by 'Merchant' and sum their 'TransactionValue', then sort the results\n",
    "top_10_unique_merchants = merchant_data.groupby('MerchantName')['Total_Spent'].sum().reset_index()\n",
    "\n",
    "# Sort by 'TransactionValue' and display the top 10 merchants\n",
    "top_10_unique_merchants = top_10_unique_merchants.sort_values(by='Total_Spent', ascending=False).head(10)\n",
    "\n",
    "top_10_unique_merchants"
   ]
  },
  {
   "cell_type": "code",
   "execution_count": null,
   "id": "cf7a8581-3e3b-4e49-b92c-3c36f57d5b31",
   "metadata": {},
   "outputs": [],
   "source": [
    "# Calculate total value spent and transaction frequency\n",
    "customer_purchase_history = merchant_data.groupby('CustomerID').agg({\n",
    "    'Total_Spent': 'sum',\n",
    "    'Transaction_Count': 'sum'\n",
    "}).reset_index()\n",
    "\n",
    "# Display the summary of customer purchase history\n",
    "print(customer_purchase_history.head())"
   ]
  },
  {
   "cell_type": "code",
   "execution_count": null,
   "id": "ec58e7af-feb2-4ce1-96dc-ecbc62d1e7fb",
   "metadata": {},
   "outputs": [],
   "source": [
    "# Selecting the specified columns to display in the DataFrame\n",
    "columns_to_display = [\n",
    "    'CustomerID', 'MerchantName', 'Category', 'TransactionRank', 'TransactionRedeemedPoints', 'TransactionValue', 'TransactionFrom(days)',\n",
    "    'CustomerLastTransactionFrom(days)', 'Recency', 'Frequency', 'Monetary'\n",
    "]\n",
    "\n",
    "# Display the DataFrame with the selected columns\n",
    "RFM_deploy_df = merged_df[columns_to_display]\n",
    "RFM_deploy_df\n",
    "\n",
    "# Saving the result to a CSV file\n",
    "RFM_deploy_df.to_csv(\"RFM_Deployment.csv\", index=False)\n",
    "print(\"The Dataset 'RFM_Deployment.csv' has been created successfully.\")"
   ]
  },
  {
   "cell_type": "code",
   "execution_count": null,
   "id": "000c9c06-5f95-4996-a4b0-5664775afe9c",
   "metadata": {},
   "outputs": [],
   "source": []
  },
  {
   "cell_type": "code",
   "execution_count": null,
   "id": "f2667c1b-0e16-4174-9854-676bb9cadaf0",
   "metadata": {},
   "outputs": [],
   "source": []
  },
  {
   "cell_type": "code",
   "execution_count": null,
   "id": "3d4c065d-b400-4014-970c-8a7e7defd472",
   "metadata": {},
   "outputs": [],
   "source": []
  },
  {
   "cell_type": "code",
   "execution_count": null,
   "id": "3d76506c-6208-423a-84a0-2153dff199c2",
   "metadata": {},
   "outputs": [],
   "source": []
  },
  {
   "cell_type": "code",
   "execution_count": null,
   "id": "05380859-d72c-48ee-950f-e7070b3d7408",
   "metadata": {},
   "outputs": [],
   "source": [
    "%%writefile RFM.py\n",
    "import pandas as pd\n",
    "import streamlit as st\n",
    "import matplotlib.pyplot as plt\n",
    "import seaborn as sns\n",
    "from sklearn.cluster import KMeans, AgglomerativeClustering\n",
    "from sklearn.preprocessing import StandardScaler\n",
    "\n",
    "# Function to map cluster numbers to meaningful labels\n",
    "def assign_cluster_labels(cluster_numbers):\n",
    "    label_mapping = {\n",
    "        0: 'Hibernating',\n",
    "        1: 'At Risk',\n",
    "        2: 'Champions',\n",
    "        3: 'Loyal',\n",
    "        4: 'Best',\n",
    "        5: 'Greedy'\n",
    "    }\n",
    "    return [label_mapping.get(cluster, 'Unknown') for cluster in cluster_numbers]\n",
    "\n",
    "# Title of the app\n",
    "st.title('Customer Segmentation Using RFM Analysis')\n",
    "\n",
    "# Sidebar for file upload\n",
    "st.sidebar.header('Upload CSV File')\n",
    "st.sidebar.markdown(\"Upload a CSV file containing customer transaction data. Ensure it has columns for Recency, Frequency, and Monetary values.\")\n",
    "\n",
    "# File uploader widget\n",
    "uploaded_file = st.sidebar.file_uploader(\"Upload a CSV file\", type=\"csv\")\n",
    "\n",
    "if uploaded_file is not None:\n",
    "    try:\n",
    "        # Load the uploaded CSV file\n",
    "        df = pd.read_csv(uploaded_file)\n",
    "        if df.empty:\n",
    "            st.error(\"Uploaded file is empty. Please upload a valid CSV file.\")\n",
    "        else:\n",
    "            st.write(\"Dataset Preview:\")\n",
    "            st.dataframe(df.head())\n",
    "\n",
    "            # Select columns for RFM analysis\n",
    "            st.sidebar.header('Select Columns for RFM Analysis')\n",
    "            recency_col = st.sidebar.selectbox('Select Recency Column', df.columns)\n",
    "            frequency_col = st.sidebar.selectbox('Select Frequency Column', df.columns)\n",
    "            monetary_col = st.sidebar.selectbox('Select Monetary Column', df.columns)\n",
    "\n",
    "            # Check if selected columns exist in the dataset\n",
    "            if recency_col not in df.columns or frequency_col not in df.columns or monetary_col not in df.columns:\n",
    "                st.error(\"Selected columns are not in the dataset. Please check your selection.\")\n",
    "            else:\n",
    "                # Allow the user to select the number of clusters\n",
    "                num_clusters = st.sidebar.slider(\"Select the number of clusters\", min_value=2, max_value=10, value=4)\n",
    "\n",
    "                # Scaling the RFM values\n",
    "                scaler = StandardScaler()\n",
    "                df_rfm = df[[recency_col, frequency_col, monetary_col]]\n",
    "                df_rfm_scaled = scaler.fit_transform(df_rfm)\n",
    "\n",
    "                # Allow user to select the clustering algorithm\n",
    "                st.sidebar.header('Select Clustering Algorithm')\n",
    "                cluster_algo = st.sidebar.selectbox('Select Algorithm', ('KMeans', 'Hierarchical Clustering'))\n",
    "\n",
    "                # Dynamic file name based on selected algorithm\n",
    "                if cluster_algo == 'KMeans':\n",
    "                    # Apply KMeans clustering\n",
    "                    kmeans = KMeans(n_clusters=num_clusters, random_state=42)\n",
    "                    df['Cluster'] = kmeans.fit_predict(df_rfm_scaled)  # KMeans Clusters\n",
    "                    df['Cluster_Label'] = assign_cluster_labels(df['Cluster'])  # Assign meaningful labels\n",
    "                    file_name = \"segmented_data_KMeans.csv\"  # Set file name based on algorithm\n",
    "                    # Define columns for the CSV file in the KMeans case\n",
    "                    columns_to_include = [\n",
    "                        'CustomerID', 'MerchantName', 'Category', 'TransactionRank', 'TransactionRedeemedPoints', \n",
    "                        'TransactionValue', 'TransactionFrom(days)', 'CustomerLastTransactionFrom(days)',\n",
    "                        'Recency', 'Frequency', 'Monetary', 'Cluster', 'Cluster_Label'\n",
    "                    ]\n",
    "                elif cluster_algo == 'Hierarchical Clustering':\n",
    "                    # Apply Hierarchical Clustering\n",
    "                    hierarchical = AgglomerativeClustering(n_clusters=num_clusters)\n",
    "                    df['Cluster'] = hierarchical.fit_predict(df_rfm_scaled)  # Hierarchical Clusters\n",
    "                    df['Cluster_Label'] = assign_cluster_labels(df['Cluster'])  # Assign meaningful labels\n",
    "                    file_name = \"segmented_data_Hierarchical.csv\"  # Set file name based on algorithm\n",
    "                    # Define columns for the CSV file in the Hierarchical Clustering case\n",
    "                    columns_to_include = [\n",
    "                        'CustomerID', 'MerchantName', 'Category', 'TransactionRank', 'TransactionRedeemedPoints', \n",
    "                        'TransactionValue', 'TransactionFrom(days)', 'CustomerLastTransactionFrom(days)',\n",
    "                        'Recency', 'Frequency', 'Monetary', 'Cluster', 'Cluster_Label'\n",
    "                    ]\n",
    "\n",
    "                # Generate the CSV file for download\n",
    "                segmented_df = df[columns_to_include]\n",
    "                \n",
    "                # Encode to CSV\n",
    "                segmented_csv = segmented_df.to_csv(index=False).encode('utf-8')\n",
    "\n",
    "                # Display the segmented data\n",
    "                st.write(\"Segmented Data Preview:\")\n",
    "                st.dataframe(segmented_df)  # Now showing the selected columns only\n",
    "\n",
    "                # Visualization of clusters\n",
    "                st.header('Cluster Visualization')\n",
    "                fig, ax = plt.subplots()\n",
    "                scatter = ax.scatter(df[recency_col], df[frequency_col], c=df['Cluster'], cmap='viridis')\n",
    "                legend1 = ax.legend(*scatter.legend_elements(), title=\"Clusters\")\n",
    "                ax.add_artist(legend1)\n",
    "                plt.xlabel('Recency')\n",
    "                plt.ylabel('Frequency')\n",
    "                st.pyplot(fig)\n",
    "\n",
    "                # Additional visualizations using seaborn (Cluster Distributions)\n",
    "                st.header('Cluster Value Distributions')\n",
    "                for cluster in df['Cluster'].unique():\n",
    "                    st.write(f\"Cluster {cluster} Distributions:\")\n",
    "                    # Create a figure and axes\n",
    "                    fig, ax = plt.subplots()\n",
    "                    sns.boxplot(data=df[df['Cluster'] == cluster][[recency_col, frequency_col, monetary_col]], ax=ax)\n",
    "                    # Pass the figure to st.pyplot\n",
    "                    st.pyplot(fig)\n",
    "\n",
    "                # Allow user to download segmented data with dynamic file name\n",
    "                st.sidebar.header('Download Segmented Data')\n",
    "                st.sidebar.download_button(label=\"Download CSV\", data=segmented_csv, file_name=file_name, mime='text/csv')\n",
    "\n",
    "    except Exception as e:\n",
    "        st.error(f\"Error loading the file: {e}\")\n",
    "else:\n",
    "    st.write(\"Please upload a CSV file to proceed.\")"
   ]
  },
  {
   "cell_type": "code",
   "execution_count": null,
   "id": "78acce9f-b551-43cf-ba02-8a7b28cc7919",
   "metadata": {},
   "outputs": [],
   "source": []
  }
 ],
 "metadata": {
  "kernelspec": {
   "display_name": "Python 3 (ipykernel)",
   "language": "python",
   "name": "python3"
  },
  "language_info": {
   "codemirror_mode": {
    "name": "ipython",
    "version": 3
   },
   "file_extension": ".py",
   "mimetype": "text/x-python",
   "name": "python",
   "nbconvert_exporter": "python",
   "pygments_lexer": "ipython3",
   "version": "3.10.14"
  }
 },
 "nbformat": 4,
 "nbformat_minor": 5
}
